{
 "cells": [
  {
   "cell_type": "markdown",
   "metadata": {},
   "source": [
    "**NumPy** - это фундаментальный пакет для научных вычислений на Python. \n",
    "Он содержит, помимо прочего: \n",
    "* мощный N-мерный массив объектов\n",
    "* полезные элементы линейной алгебры написанные на языке C / C ++ и Фортран\n",
    "* преобразования Фурье и случайные чисела. \n",
    "\n",
    "Помимо очевидного научного использования, NumPy также может использоваться как эффективный многомерный контейнер данных."
   ]
  },
  {
   "cell_type": "code",
   "execution_count": 2,
   "metadata": {},
   "outputs": [],
   "source": [
    "import numpy as np"
   ]
  },
  {
   "cell_type": "markdown",
   "metadata": {},
   "source": [
    "## Массивы\n",
    "\n",
    "Массив numpy представляет собой сетку значений одного типа и индексируется кортежем неотрицательных целых чисел. Число измерений-это ранг массива; форма массива - это кортеж целых чисел, дающих размер массива вдоль каждого измерения.\n",
    "\n",
    "Мы можем инициализировать массивы numpy из стандартных списков Python и получить доступ к элементам с помощью квадратных скобок:"
   ]
  },
  {
   "cell_type": "code",
   "execution_count": 2,
   "metadata": {},
   "outputs": [
    {
     "name": "stdout",
     "output_type": "stream",
     "text": [
      "<class 'list'>\n",
      "<class 'numpy.ndarray'>\n",
      "(3,)\n",
      "1 2 3\n",
      "[5 2 3]\n"
     ]
    }
   ],
   "source": [
    "a = np.array([1, 2, 3])\n",
    "print(type([1, 2, 3]))\n",
    "print(type(a))            \n",
    "print(a.shape)            \n",
    "print(a[0], a[1], a[2])   \n",
    "a[0] = 5                  \n",
    "print(a)                  "
   ]
  },
  {
   "cell_type": "code",
   "execution_count": 3,
   "metadata": {},
   "outputs": [
    {
     "name": "stdout",
     "output_type": "stream",
     "text": [
      "(2, 3)\n",
      "[[1 2 3]\n",
      " [4 5 6]]\n",
      "1 2 4\n"
     ]
    }
   ],
   "source": [
    "b = np.array([[1,2,3],[4,5,6]])\n",
    "print(b.shape)\n",
    "print(b)\n",
    "print(b[0, 0], b[0, 1], b[1, 0])"
   ]
  },
  {
   "cell_type": "markdown",
   "metadata": {},
   "source": [
    "NumPy включает в себя множество функций для создания массивов:"
   ]
  },
  {
   "cell_type": "code",
   "execution_count": 4,
   "metadata": {},
   "outputs": [
    {
     "name": "stdout",
     "output_type": "stream",
     "text": [
      "[[0. 0.]\n",
      " [0. 0.]]\n"
     ]
    }
   ],
   "source": [
    "a = np.zeros((2,2))\n",
    "print(a)  "
   ]
  },
  {
   "cell_type": "code",
   "execution_count": 5,
   "metadata": {},
   "outputs": [
    {
     "name": "stdout",
     "output_type": "stream",
     "text": [
      "[[1. 1.]]\n"
     ]
    }
   ],
   "source": [
    "b = np.ones((1,2))\n",
    "print(b)"
   ]
  },
  {
   "cell_type": "code",
   "execution_count": 6,
   "metadata": {},
   "outputs": [
    {
     "name": "stdout",
     "output_type": "stream",
     "text": [
      "[[7 7]\n",
      " [7 7]]\n"
     ]
    }
   ],
   "source": [
    "c = np.full((2,2), 7)\n",
    "print(c)"
   ]
  },
  {
   "cell_type": "code",
   "execution_count": 7,
   "metadata": {},
   "outputs": [
    {
     "name": "stdout",
     "output_type": "stream",
     "text": [
      "[[1. 0.]\n",
      " [0. 1.]]\n"
     ]
    }
   ],
   "source": [
    "d = np.eye(2)\n",
    "print(d) "
   ]
  },
  {
   "cell_type": "code",
   "execution_count": 8,
   "metadata": {},
   "outputs": [
    {
     "name": "stdout",
     "output_type": "stream",
     "text": [
      "[[0.64482241 0.22919871]\n",
      " [0.56433798 0.74458646]]\n"
     ]
    }
   ],
   "source": [
    "e = np.random.random((2,2))\n",
    "print(e)"
   ]
  },
  {
   "cell_type": "markdown",
   "metadata": {},
   "source": [
    "Про все остальные способы создать массив можно прочитать в документации https://docs.scipy.org/doc/numpy/user/basics.creation.html#arrays-creation"
   ]
  },
  {
   "cell_type": "markdown",
   "metadata": {},
   "source": [
    "## Индексации массива \n",
    "Numpy предлагает несколько способов индексирования."
   ]
  },
  {
   "cell_type": "markdown",
   "metadata": {},
   "source": [
    "### Срезы:\n",
    "так же как в списках в Python.\n",
    "Поскольку массивы могут быть многомерными, необходимо указать срез для каждого измерения массива."
   ]
  },
  {
   "cell_type": "code",
   "execution_count": 9,
   "metadata": {},
   "outputs": [
    {
     "name": "stdout",
     "output_type": "stream",
     "text": [
      "[[ 1  2  3  4]\n",
      " [ 5  6  7  8]\n",
      " [ 9 10 11 12]] \n",
      "\n",
      "[[2 3]\n",
      " [6 7]]\n"
     ]
    }
   ],
   "source": [
    "a = np.array([[1,2,3,4], [5,6,7,8], [9,10,11,12]])\n",
    "print(a, '\\n')\n",
    "b = a[:2, 1:3]\n",
    "print(b)"
   ]
  },
  {
   "cell_type": "markdown",
   "metadata": {},
   "source": [
    "Срез списка указывает на те же данные, изменяя срез мы изменим и исходный список"
   ]
  },
  {
   "cell_type": "code",
   "execution_count": 10,
   "metadata": {},
   "outputs": [
    {
     "name": "stdout",
     "output_type": "stream",
     "text": [
      "[[  1 123   3   4]\n",
      " [  5   6   7   8]\n",
      " [  9  10  11  12]] \n",
      "\n",
      "[[123   3]\n",
      " [  6   7]]\n"
     ]
    }
   ],
   "source": [
    "b[0, 0] = 123\n",
    "print(a, '\\n')\n",
    "print(b)"
   ]
  },
  {
   "cell_type": "markdown",
   "metadata": {},
   "source": [
    "### Целочисленное индексирование\n",
    "При индексировании с помощью срезов резултат всегда будет подмассивом исходного. Целочисленное индексирование позволяет создавать произвольные массивы, используя данные из другого массива."
   ]
  },
  {
   "cell_type": "code",
   "execution_count": 11,
   "metadata": {},
   "outputs": [
    {
     "name": "stdout",
     "output_type": "stream",
     "text": [
      "[[1 2]\n",
      " [3 4]\n",
      " [5 6]] (3, 2) \n",
      "\n",
      "[1 4 5] (3,)\n"
     ]
    }
   ],
   "source": [
    "a = np.array([[1,2], [3, 4], [5, 6]])\n",
    "b = a[[0, 1, 2], [0, 1, 0]]\n",
    "\n",
    "print(a, a.shape, '\\n')\n",
    "print(b, b.shape)"
   ]
  },
  {
   "cell_type": "markdown",
   "metadata": {},
   "source": [
    "Пример выше эквивалентен такому:"
   ]
  },
  {
   "cell_type": "code",
   "execution_count": 12,
   "metadata": {},
   "outputs": [
    {
     "name": "stdout",
     "output_type": "stream",
     "text": [
      "[1 4 5] (3,)\n"
     ]
    }
   ],
   "source": [
    "b = np.array([a[0, 0], a[1, 1], a[2, 0]])\n",
    "print(b, b.shape)"
   ]
  },
  {
   "cell_type": "markdown",
   "metadata": {},
   "source": [
    "Так же можно использовать один и тот же элемент несколько раз"
   ]
  },
  {
   "cell_type": "code",
   "execution_count": 13,
   "metadata": {},
   "outputs": [
    {
     "name": "stdout",
     "output_type": "stream",
     "text": [
      "[2 2]\n",
      "[2 2]\n"
     ]
    }
   ],
   "source": [
    "print(a[[0, 0], [1, 1]])\n",
    "# Пример выше эквивалентен такому:\n",
    "print(np.array([a[0, 1], a[0, 1]]))"
   ]
  },
  {
   "cell_type": "markdown",
   "metadata": {},
   "source": [
    "Один полезный трюк с целочисленным индексированием массива -- выбор или изменеие одного элемента из каждой строки матрицы:"
   ]
  },
  {
   "cell_type": "code",
   "execution_count": 14,
   "metadata": {},
   "outputs": [
    {
     "name": "stdout",
     "output_type": "stream",
     "text": [
      "[[ 1  2  3]\n",
      " [ 4  5  6]\n",
      " [ 7  8  9]\n",
      " [10 11 12]] \n",
      "\n",
      "[ 1  6  7 11] \n",
      "\n",
      "[[11  2  3]\n",
      " [ 4  5 16]\n",
      " [17  8  9]\n",
      " [10 21 12]]\n"
     ]
    }
   ],
   "source": [
    "# Create a new array from which we will select elements\n",
    "a = np.array([[1,2,3], [4,5,6], [7,8,9], [10, 11, 12]])\n",
    "\n",
    "print(a, '\\n')\n",
    "\n",
    "# Создадим массив индексов\n",
    "b = np.array([0, 2, 0, 1])\n",
    "\n",
    "# Выбирем один элемент из скаждой строки по индексам из b\n",
    "print(a[np.arange(4), b], '\\n')  \n",
    "\n",
    "# Изменим эти элементы\n",
    "a[np.arange(4), b] += 10\n",
    "\n",
    "print(a)"
   ]
  },
  {
   "cell_type": "markdown",
   "metadata": {},
   "source": [
    "Можно также смешивать целочисленное индексирование со срезами.Это даст массив более низкого ранга, чем исходный массив. "
   ]
  },
  {
   "cell_type": "code",
   "execution_count": 15,
   "metadata": {},
   "outputs": [
    {
     "name": "stdout",
     "output_type": "stream",
     "text": [
      "[5 6 7 8] (4,)\n",
      "[[5 6 7 8]] (1, 4)\n"
     ]
    }
   ],
   "source": [
    "a = np.array([[1,2,3,4], [5,6,7,8], [9,10,11,12]])\n",
    "\n",
    "row_r1 = a[1, :]    # Rank 1 ссылается на вторую строчку a\n",
    "row_r2 = a[1:2, :]  # Rank 2 ссылается на вторую строчку a\n",
    "print(row_r1, row_r1.shape)\n",
    "print(row_r2, row_r2.shape)"
   ]
  },
  {
   "cell_type": "markdown",
   "metadata": {},
   "source": [
    "Со столбцами всё точно так же"
   ]
  },
  {
   "cell_type": "code",
   "execution_count": 16,
   "metadata": {},
   "outputs": [
    {
     "name": "stdout",
     "output_type": "stream",
     "text": [
      "[ 2  6 10] (3,)\n",
      "[[ 2]\n",
      " [ 6]\n",
      " [10]] (3, 1)\n"
     ]
    }
   ],
   "source": [
    "col_r1 = a[:, 1]\n",
    "col_r2 = a[:, 1:2]\n",
    "print(col_r1, col_r1.shape) \n",
    "print(col_r2, col_r2.shape)"
   ]
  },
  {
   "cell_type": "markdown",
   "metadata": {},
   "source": [
    "### Логическое индексирование\n",
    "позволяет выбирать произвольные элементы массива. Часто этот тип индексирования используется для выбора элементов массива, удовлетворяющих некоторому условию. Вот пример:"
   ]
  },
  {
   "cell_type": "code",
   "execution_count": 17,
   "metadata": {},
   "outputs": [
    {
     "name": "stdout",
     "output_type": "stream",
     "text": [
      "[[False False]\n",
      " [ True  True]\n",
      " [ True  True]]\n"
     ]
    }
   ],
   "source": [
    "a = np.array([[1,2], [3, 4], [5, 6]])\n",
    "\n",
    "bool_idx = (a > 2)   # Возвращает массив Booleans такого же размера как a\n",
    "\n",
    "print(bool_idx)\n"
   ]
  },
  {
   "cell_type": "markdown",
   "metadata": {},
   "source": [
    "Используем логическое индексирование массива чтобы построить массив\n",
    "состоящий из элементов `a`, соответствующих истинным значениям из `bool_idx`"
   ]
  },
  {
   "cell_type": "code",
   "execution_count": 18,
   "metadata": {},
   "outputs": [
    {
     "name": "stdout",
     "output_type": "stream",
     "text": [
      "[3 4 5 6]\n"
     ]
    }
   ],
   "source": [
    "print(a[bool_idx])"
   ]
  },
  {
   "cell_type": "markdown",
   "metadata": {},
   "source": [
    "Всё можно записать в одну строчку. Очень лаконично"
   ]
  },
  {
   "cell_type": "code",
   "execution_count": 19,
   "metadata": {},
   "outputs": [
    {
     "name": "stdout",
     "output_type": "stream",
     "text": [
      "[3 4 5 6]\n"
     ]
    }
   ],
   "source": [
    "print(a[a > 2]) "
   ]
  },
  {
   "cell_type": "markdown",
   "metadata": {},
   "source": [
    "Для краткости мы оставили много деталей об индексации массива numpy; если вы хотите узнать больше, вы должны прочитать документацию. https://docs.scipy.org/doc/numpy/reference/arrays.indexing.html"
   ]
  },
  {
   "cell_type": "markdown",
   "metadata": {},
   "source": [
    "## Типы данных\n",
    "Каждый массив numpy представляет собой сетку элементов одного типа. Numpy содержит большой набор числовых типов данных, которые можно использовать для создания массивов. Numpy пытается угадать тип данных при создании массива, но функции, которые строят массивы, обычно также включают необязательный аргумент для явного указания типа данных. Вот пример:"
   ]
  },
  {
   "cell_type": "code",
   "execution_count": 20,
   "metadata": {},
   "outputs": [
    {
     "name": "stdout",
     "output_type": "stream",
     "text": [
      "int32\n",
      "float64\n",
      "float64\n"
     ]
    }
   ],
   "source": [
    "x = np.array([1, 2])\n",
    "print(x.dtype)\n",
    "\n",
    "x = np.array([1.0, 2.0])   \n",
    "print(x.dtype)\n",
    "\n",
    "x = np.array([1, 2], dtype=np.float64)\n",
    "print(x.dtype)                    "
   ]
  },
  {
   "cell_type": "markdown",
   "metadata": {},
   "source": [
    "В первых двух примерах тип данных выбрался автоматически. В третьем мы явно его указали.\n",
    "Не будем подробно останавливаться на типах данных, если интересно вы можете прочитать подробнее в документации. https://docs.scipy.org/doc/numpy/reference/arrays.dtypes.html"
   ]
  },
  {
   "cell_type": "markdown",
   "metadata": {},
   "source": [
    "## Арифметика массивов\n",
    "Основные математические функции работают поелементно в массивах и доступны как в качестве перегрузок операторов, так и в качестве функций в модуле numpy:"
   ]
  },
  {
   "cell_type": "code",
   "execution_count": 21,
   "metadata": {},
   "outputs": [],
   "source": [
    "x = np.array([[1,2],[3,4]], dtype=np.float64)\n",
    "y = np.array([[5,6],[7,8]], dtype=np.float64)"
   ]
  },
  {
   "cell_type": "markdown",
   "metadata": {},
   "source": [
    "Поэлементная сумма, разность, умножение, деление и квадратный корень"
   ]
  },
  {
   "cell_type": "code",
   "execution_count": 22,
   "metadata": {},
   "outputs": [
    {
     "name": "stdout",
     "output_type": "stream",
     "text": [
      "[[ 6.  8.]\n",
      " [10. 12.]]\n",
      "[[ 6.  8.]\n",
      " [10. 12.]]\n"
     ]
    }
   ],
   "source": [
    "print(x + y)\n",
    "print(np.add(x, y))"
   ]
  },
  {
   "cell_type": "code",
   "execution_count": 23,
   "metadata": {},
   "outputs": [
    {
     "name": "stdout",
     "output_type": "stream",
     "text": [
      "[[-4. -4.]\n",
      " [-4. -4.]]\n",
      "[[-4. -4.]\n",
      " [-4. -4.]]\n"
     ]
    }
   ],
   "source": [
    "print(x - y)\n",
    "print(np.subtract(x, y))"
   ]
  },
  {
   "cell_type": "code",
   "execution_count": 24,
   "metadata": {},
   "outputs": [
    {
     "name": "stdout",
     "output_type": "stream",
     "text": [
      "[[ 5. 12.]\n",
      " [21. 32.]]\n",
      "[[ 5. 12.]\n",
      " [21. 32.]]\n"
     ]
    }
   ],
   "source": [
    "print(x * y)\n",
    "print(np.multiply(x, y))"
   ]
  },
  {
   "cell_type": "code",
   "execution_count": 25,
   "metadata": {},
   "outputs": [
    {
     "name": "stdout",
     "output_type": "stream",
     "text": [
      "[[0.2        0.33333333]\n",
      " [0.42857143 0.5       ]]\n",
      "[[0.2        0.33333333]\n",
      " [0.42857143 0.5       ]]\n"
     ]
    }
   ],
   "source": [
    "print(x / y)\n",
    "print(np.divide(x, y))"
   ]
  },
  {
   "cell_type": "code",
   "execution_count": 26,
   "metadata": {},
   "outputs": [
    {
     "name": "stdout",
     "output_type": "stream",
     "text": [
      "[[1.         1.41421356]\n",
      " [1.73205081 2.        ]]\n"
     ]
    }
   ],
   "source": [
    "print(np.sqrt(x))"
   ]
  },
  {
   "cell_type": "markdown",
   "metadata": {},
   "source": [
    "Обратите внимание, что `x * y` это поэлементное умножене, а не матричное произведение из линала. Если нужно матричное произведение, нужно использовать специальную функцию."
   ]
  },
  {
   "cell_type": "code",
   "execution_count": 27,
   "metadata": {},
   "outputs": [],
   "source": [
    "x = np.array([[1,2],[3,4]])\n",
    "y = np.array([[5,6],[7,8]])\n",
    "\n",
    "v = np.array([9,10])\n",
    "w = np.array([11, 12])"
   ]
  },
  {
   "cell_type": "markdown",
   "metadata": {},
   "source": [
    "Скалярное произведение векторов"
   ]
  },
  {
   "cell_type": "code",
   "execution_count": 28,
   "metadata": {},
   "outputs": [
    {
     "name": "stdout",
     "output_type": "stream",
     "text": [
      "219\n",
      "219\n"
     ]
    }
   ],
   "source": [
    "print(v.dot(w))\n",
    "print(np.dot(v, w))"
   ]
  },
  {
   "cell_type": "markdown",
   "metadata": {},
   "source": [
    "Умножение матрицы на вектор"
   ]
  },
  {
   "cell_type": "code",
   "execution_count": 29,
   "metadata": {},
   "outputs": [
    {
     "name": "stdout",
     "output_type": "stream",
     "text": [
      "[29 67]\n",
      "[29 67]\n"
     ]
    }
   ],
   "source": [
    "print(x.dot(v))\n",
    "print(np.dot(x, v))"
   ]
  },
  {
   "cell_type": "markdown",
   "metadata": {},
   "source": [
    "Матричное умножение"
   ]
  },
  {
   "cell_type": "code",
   "execution_count": 30,
   "metadata": {},
   "outputs": [
    {
     "name": "stdout",
     "output_type": "stream",
     "text": [
      "[[19 22]\n",
      " [43 50]]\n",
      "[[19 22]\n",
      " [43 50]]\n"
     ]
    }
   ],
   "source": [
    "print(x.dot(y))\n",
    "print(np.dot(x, y))"
   ]
  },
  {
   "cell_type": "markdown",
   "metadata": {},
   "source": [
    "Numpy предоставляет множество полезных функций для выполнения вычислений на массивах; одна из самых полезных-`sum`:"
   ]
  },
  {
   "cell_type": "code",
   "execution_count": 31,
   "metadata": {},
   "outputs": [
    {
     "name": "stdout",
     "output_type": "stream",
     "text": [
      "[[1 2]\n",
      " [3 4]] \n",
      "\n",
      "10\n",
      "[4 6]\n",
      "[3 7]\n"
     ]
    }
   ],
   "source": [
    "x = np.array([[1,2],[3,4]])\n",
    "\n",
    "print(x, '\\n')\n",
    "\n",
    "print(np.sum(x))          # Сумма всех элементов\n",
    "print(np.sum(x, axis=0))  # Сумма каждого столбца\n",
    "print(np.sum(x, axis=1))  # Сумма каждой строки"
   ]
  },
  {
   "cell_type": "markdown",
   "metadata": {},
   "source": [
    "Полный список математических функций можете посмотреть в документации\n",
    "https://docs.scipy.org/doc/numpy/reference/routines.math.html"
   ]
  },
  {
   "cell_type": "markdown",
   "metadata": {},
   "source": [
    "Помимо вычисления математических функций с использованием массивов, нам часто приходится изменять или иным образом манипулировать данными в массивах. Самый простой пример такого типа операции-транспонирование матрицы; чтобы транспонировать матрицу, просто используйте атрибут T объекта array:"
   ]
  },
  {
   "cell_type": "code",
   "execution_count": 32,
   "metadata": {},
   "outputs": [
    {
     "name": "stdout",
     "output_type": "stream",
     "text": [
      "[[1 2]\n",
      " [3 4]] \n",
      "\n",
      "[[1 3]\n",
      " [2 4]]\n"
     ]
    }
   ],
   "source": [
    "x = np.array([[1,2], [3,4]])\n",
    "print(x,'\\n')\n",
    "print(x.T)"
   ]
  },
  {
   "cell_type": "markdown",
   "metadata": {},
   "source": [
    "Транспонирование ветора ничего не делает"
   ]
  },
  {
   "cell_type": "code",
   "execution_count": 33,
   "metadata": {},
   "outputs": [
    {
     "name": "stdout",
     "output_type": "stream",
     "text": [
      "[1 2 3]\n",
      "[1 2 3]\n"
     ]
    }
   ],
   "source": [
    "v = np.array([1,2,3])\n",
    "print(v)\n",
    "print(v.T)"
   ]
  },
  {
   "cell_type": "markdown",
   "metadata": {},
   "source": [
    "Numpy предоставляет гораздо больше функций для управления массивами; вы можете увидеть полный список в документации. https://docs.scipy.org/doc/numpy/reference/routines.array-manipulation.html"
   ]
  },
  {
   "cell_type": "markdown",
   "metadata": {},
   "source": [
    "## Broadcasting\n",
    "мощный механизм, позволяющий numpy работать с массивами различной формы при выполнении арифметических операций. Часто у нас есть меньший массив и больший массив, и мы хотим использовать меньший массив несколько раз для выполнения некоторой операции над большим массивом."
   ]
  },
  {
   "cell_type": "markdown",
   "metadata": {},
   "source": [
    "Например, предположим, что мы хотим добавить постоянный вектор к каждой строке матрицы. Мы можем сделать это так:"
   ]
  },
  {
   "cell_type": "code",
   "execution_count": 34,
   "metadata": {},
   "outputs": [
    {
     "name": "stdout",
     "output_type": "stream",
     "text": [
      "[[ 1  2  3]\n",
      " [ 4  5  6]\n",
      " [ 7  8  9]\n",
      " [10 11 12]] \n",
      "\n",
      "[[ 2  2  4]\n",
      " [ 5  5  7]\n",
      " [ 8  8 10]\n",
      " [11 11 13]]\n"
     ]
    }
   ],
   "source": [
    "x = np.array([[1,2,3], [4,5,6], [7,8,9], [10, 11, 12]])\n",
    "v = np.array([1, 0, 1])\n",
    "y = np.empty_like(x)   # Пустая (заполненная мусором) матрица той же размерности, что и x\n",
    "\n",
    "# Для каждой строки матрицы x в цикле доболяем вектор v\n",
    "for i in range(4):\n",
    "    y[i, :] = x[i, :] + v\n",
    "\n",
    "print(x, '\\n')\n",
    "print(y)"
   ]
  },
  {
   "cell_type": "markdown",
   "metadata": {},
   "source": [
    "### Это работает! \n",
    "Но, когда матрица `x` очень велика, вычисление цикла в Python может быть медленным. Обратите внимание, что добавление вектора v в каждую строку матрицы x эквивалентно формированию матрицы `vv` путем укладки нескольких копий v вертикально, а затем выполнения элементарного суммирования `x` и `vv`. Мы могли бы реализовать такой подход:"
   ]
  },
  {
   "cell_type": "code",
   "execution_count": 35,
   "metadata": {},
   "outputs": [
    {
     "name": "stdout",
     "output_type": "stream",
     "text": [
      "[[1 0 1]\n",
      " [1 0 1]\n",
      " [1 0 1]\n",
      " [1 0 1]] \n",
      "\n",
      "[[ 2  2  4]\n",
      " [ 5  5  7]\n",
      " [ 8  8 10]\n",
      " [11 11 13]]\n"
     ]
    }
   ],
   "source": [
    "x = np.array([[1,2,3], [4,5,6], [7,8,9], [10, 11, 12]])\n",
    "v = np.array([1, 0, 1])\n",
    "vv = np.tile(v, (4, 1))   # Склеить 4 копии вектора v друг на друга\n",
    "print(vv, '\\n')                 \n",
    "\n",
    "y = x + vv  # Сложение из numpy\n",
    "print(y)"
   ]
  },
  {
   "cell_type": "markdown",
   "metadata": {},
   "source": [
    "Numpy broadcasting позволяет нам выполнять это вычисление без фактического создания нескольких копий `v`."
   ]
  },
  {
   "cell_type": "code",
   "execution_count": 36,
   "metadata": {},
   "outputs": [
    {
     "name": "stdout",
     "output_type": "stream",
     "text": [
      "[[ 2  2  4]\n",
      " [ 5  5  7]\n",
      " [ 8  8 10]\n",
      " [11 11 13]]\n"
     ]
    }
   ],
   "source": [
    "x = np.array([[1,2,3], [4,5,6], [7,8,9], [10, 11, 12]])\n",
    "v = np.array([1, 0, 1])\n",
    "y = x + v\n",
    "print(y)"
   ]
  },
  {
   "cell_type": "markdown",
   "metadata": {},
   "source": [
    "Строчка `y = x + v` работает несмотря на то, что `x.shape == (4, 3)` и `v.shape == (3,)`. Это работает как если бы  `v.shape`  было `(4,3)` где каждая строка была копией `v`, а сумма считается поэлементно."
   ]
  },
  {
   "cell_type": "markdown",
   "metadata": {},
   "source": [
    "Этот краткий обзор коснулся многих важных вещей, которые вы должны знать о numpy, но далек от завершения. По ссылке вы можете узнать много нового и полезного. https://docs.scipy.org/doc/numpy/reference/"
   ]
  },
  {
   "cell_type": "markdown",
   "metadata": {},
   "source": [
    "## Зачем всё это?\n",
    "Вы могли слышать, что один из минусов питона, это его большое время работы. NumPy пытается как-то решить эту проблему. Многие его функции реализованы на си или фортране. Рассмотрим пример"
   ]
  },
  {
   "cell_type": "code",
   "execution_count": 44,
   "metadata": {},
   "outputs": [
    {
     "name": "stdout",
     "output_type": "stream",
     "text": [
      "Numpy is in this example 21.003365384615385 times faster!\n"
     ]
    }
   ],
   "source": [
    "import timeit\n",
    "import time\n",
    "size_of_vec = 30000\n",
    "\n",
    "def python():\n",
    "    start = time.time()\n",
    "    X = range(size_of_vec)\n",
    "    Y = range(size_of_vec)\n",
    "    Z = [X[i] + Y[i] for i in range(len(X)) ]\n",
    "    return time.time() - start\n",
    "\n",
    "\n",
    "def numpy():\n",
    "    start = time.time()\n",
    "    X = np.arange(size_of_vec)\n",
    "    Y = np.arange(size_of_vec)\n",
    "    Z = X + Y\n",
    "    return time.time() - start\n",
    "\n",
    "\n",
    "print(\"Numpy is in this example {} times faster!\".format(python()/numpy()))\n"
   ]
  },
  {
   "cell_type": "markdown",
   "metadata": {},
   "source": [
    "### Упражнение 1\n",
    "Постройте график ускорения получаемого с использованием массивов numpy по сравнению со списками в питоне от размера массива. \n",
    "Для более точных результатов замеряйте время выполнения функции несколько раз и усредняйте. (можно использовать модуль Timer из библиотеки timeit)\n",
    "* Используйте функцию `z = 2*x**2 + 4*y`\n",
    "* Перемножение матриц размера n на n"
   ]
  },
  {
   "cell_type": "code",
   "execution_count": 46,
   "metadata": {},
   "outputs": [
    {
     "data": {
      "image/png": "[encoded data removed]",
      "text/plain": [
       "<Figure size 432x288 with 1 Axes>"
      ]
     },
     "metadata": {
      "needs_background": "light"
     },
     "output_type": "display_data"
    }
   ],
   "source": [
    "import timeit\n",
    "import time\n",
    "import matplotlib.pyplot as plt\n",
    "\n",
    "def python(size_of_vec):\n",
    "    start = time.time()\n",
    "    X = range(size_of_vec)\n",
    "    Y = range(size_of_vec)\n",
    "    Z = [2*X[i]**2 + 4*Y[i] for i in range(len(X))]\n",
    "    return time.time() - start\n",
    "\n",
    "def numpy(size_of_vec):\n",
    "    start = time.time()\n",
    "    X = np.arange(size_of_vec)\n",
    "    Y = np.arange(size_of_vec)\n",
    "    Z = 2*X**2 + 4*Y\n",
    "    return time.time() - start\n",
    "\n",
    "time_py = []\n",
    "time_np = []\n",
    "size_of_vec = np.array(range(50000, 400000, 50000))\n",
    "for dots in size_of_vec:\n",
    "    medium_py = 0\n",
    "    medium_np = 0\n",
    "    for i in range(10):\n",
    "        medium_py += python(dots)\n",
    "        medium_np += numpy(dots)\n",
    "    time_py.append(medium_py/10) \n",
    "    time_np.append(medium_np/10) \n",
    "    \n",
    "\n",
    "plt.plot(size_of_vec, time_py)\n",
    "plt.plot(size_of_vec, time_np)\n",
    "plt.show()"
   ]
  },
  {
   "cell_type": "code",
   "execution_count": 39,
   "metadata": {},
   "outputs": [
    {
     "data": {
      "image/png": "[encoded data removed]",
      "text/plain": [
       "<Figure size 432x288 with 1 Axes>"
      ]
     },
     "metadata": {
      "needs_background": "light"
     },
     "output_type": "display_data"
    }
   ],
   "source": [
    "from random import randint\n",
    "import timeit\n",
    "import time\n",
    "\n",
    "def python(n):\n",
    "    start = time.time()\n",
    "    X = [[randint(-10,10) for j in range(n)] for i in range(n)]\n",
    "    Y = [[randint(-10,10) for j in range(n)] for i in range(n)]\n",
    "    Z = [[ 0 for j in range(n)] for i in range(n)]\n",
    "    for i in range(n):\n",
    "        for j in range(n):\n",
    "            for k in range(n):\n",
    "                Z[i][j] += X[j][k]*Y[j][k]\n",
    "    return time.time() - start\n",
    "    \n",
    "\n",
    "def numpy(n):\n",
    "    start = time.time()\n",
    "    X = np.random.randint(-10, 10, (n, n))\n",
    "    Y = np.random.randint(-10, 10, (n, n))\n",
    "    Z = np.dot(X, Y)\n",
    "    return time.time() - start\n",
    "\n",
    "time_py = []\n",
    "time_np = []\n",
    "n = np.array(range(5, 50, 5))\n",
    "for j in n:\n",
    "    medium_py = 0\n",
    "    medium_np = 0\n",
    "    for i in range(10):\n",
    "        medium_py += python(j)\n",
    "        medium_np += numpy(j)\n",
    "    time_py.append(medium_py/10) \n",
    "    time_np.append(medium_np/10)            \n",
    "\n",
    "plt.plot(n, time_py)\n",
    "plt.plot(n, time_np)\n",
    "plt.show()\n"
   ]
  },
  {
   "cell_type": "markdown",
   "metadata": {},
   "source": [
    "### Упражнение 2\n",
    "* Создать массив чисел от 2 до 75. Вывести только нечётные. \n",
    "* Присвоить нечётным числам этого массива значение -1.\n"
   ]
  },
  {
   "cell_type": "code",
   "execution_count": 3,
   "metadata": {},
   "outputs": [
    {
     "name": "stdout",
     "output_type": "stream",
     "text": [
      "[ 3  5  7  9 11 13 15 17 19 21 23 25 27 29 31 33 35 37 39 41 43 45 47 49\n",
      " 51 53 55 57 59 61 63 65 67 69 71 73 75] \n",
      "\n",
      "[ 2 -1  4 -1  6 -1  8 -1 10 -1 12 -1 14 -1 16 -1 18 -1 20 -1 22 -1 24 -1\n",
      " 26 -1 28 -1 30 -1 32 -1 34 -1 36 -1 38 -1 40 -1 42 -1 44 -1 46 -1 48 -1\n",
      " 50 -1 52 -1 54 -1 56 -1 58 -1 60 -1 62 -1 64 -1 66 -1 68 -1 70 -1 72 -1\n",
      " 74 -1]\n"
     ]
    }
   ],
   "source": [
    "A = np.array(range(2, 76))\n",
    "print(A[A%2==1], '\\n')\n",
    "A[A%2==1] = -1\n",
    "print(A)"
   ]
  },
  {
   "cell_type": "markdown",
   "metadata": {},
   "source": [
    "### Упражнение 3\n",
    "* прочитать про функцию reshape, запустить и понять все пимеры https://docs.scipy.org/doc/numpy/reference/generated/numpy.reshape.html?highlight=reshape#numpy.reshape\n",
    "* Найти в документации функцию, которая удаляет из одного массива элементы, которые есть в другом. Вспомнить как то же самое проделать с множествами"
   ]
  },
  {
   "cell_type": "code",
   "execution_count": 44,
   "metadata": {},
   "outputs": [
    {
     "name": "stdout",
     "output_type": "stream",
     "text": [
      "[10 -7  0 -1] \n",
      "\n",
      "[ 10 -10   1  -3] \n",
      "\n",
      "[-7 -1  0]\n"
     ]
    }
   ],
   "source": [
    "X = np.random.randint(-10, 11, 4)\n",
    "Y = np.random.randint(-10, 11, 4)\n",
    "\n",
    "print(X, '\\n')\n",
    "print(Y, '\\n')\n",
    "print(np.setdiff1d(X, Y))"
   ]
  },
  {
   "cell_type": "markdown",
   "metadata": {},
   "source": [
    "### Упражнение 4\n",
    "\n",
    "* Создать случаую квадратную матрицу случайного размера от 10 до 100. \n",
    "* Найти максимум и сумму элементов.\n",
    "* Поделить каждый элемент на максимум.\n",
    "* Отнять от каждой строки матрицы среднее по строке\n",
    "* Заменить максимальное значение на -1."
   ]
  },
  {
   "cell_type": "code",
   "execution_count": 47,
   "metadata": {
    "scrolled": false
   },
   "outputs": [
    {
     "name": "stdout",
     "output_type": "stream",
     "text": [
      "[[-10   2  10   3   9  -5  -7  -6   4   9  -5 -10  10]\n",
      " [  0   0   2  -1  -2   4  -9  10   1  -7   4  -9   6]\n",
      " [  7   0  -9 -10  -8  10  -6   8   2   7  -6  -4  -7]\n",
      " [ -3  -6   2  -8  -6   8  -3  10  -1  -5  -3  -3   5]\n",
      " [ -9  -9 -10  -4  -3   2   7   8   8   9   7   1  -7]\n",
      " [-10   0  -6  -1   2  -8 -10  -4  -9  -8  -5  10   8]\n",
      " [ -4   9  -2   1   1  -7   5  -8  10  -3  -3   6  -1]\n",
      " [ -7  -2  -5   7   3   8   1   0  -6   8  -9  -4  -4]\n",
      " [ 10   3  -7  -2  10  -1   2   3   4   5   1  -8   1]\n",
      " [  9   4  -6   3   3  -4  -2  -5   6 -10  -6   7  -3]\n",
      " [ -6   5   3   4  -4   7   1   2  -5   6   0 -10  -5]\n",
      " [  8   7   5  -6  10  -9 -10 -10   2   3  -6   1   0]\n",
      " [ -3   0   4  -1 -10  -1  -2   3  -2   9   8   1   2]] \n",
      "\n",
      "[ 0.30769231 -0.07692308 -1.23076923 -1.          0.         -3.15384615\n",
      "  0.30769231 -0.76923077  1.61538462 -0.30769231 -0.15384615 -0.38461538\n",
      "  0.61538462]\n",
      "10 \n",
      "\n",
      "-55 \n",
      "\n",
      "[[-1.   0.2  1.   0.3  0.9 -0.5 -0.7 -0.6  0.4  0.9 -0.5 -1.   1. ]\n",
      " [ 0.   0.   0.2 -0.1 -0.2  0.4 -0.9  1.   0.1 -0.7  0.4 -0.9  0.6]\n",
      " [ 0.7  0.  -0.9 -1.  -0.8  1.  -0.6  0.8  0.2  0.7 -0.6 -0.4 -0.7]\n",
      " [-0.3 -0.6  0.2 -0.8 -0.6  0.8 -0.3  1.  -0.1 -0.5 -0.3 -0.3  0.5]\n",
      " [-0.9 -0.9 -1.  -0.4 -0.3  0.2  0.7  0.8  0.8  0.9  0.7  0.1 -0.7]\n",
      " [-1.   0.  -0.6 -0.1  0.2 -0.8 -1.  -0.4 -0.9 -0.8 -0.5  1.   0.8]\n",
      " [-0.4  0.9 -0.2  0.1  0.1 -0.7  0.5 -0.8  1.  -0.3 -0.3  0.6 -0.1]\n",
      " [-0.7 -0.2 -0.5  0.7  0.3  0.8  0.1  0.  -0.6  0.8 -0.9 -0.4 -0.4]\n",
      " [ 1.   0.3 -0.7 -0.2  1.  -0.1  0.2  0.3  0.4  0.5  0.1 -0.8  0.1]\n",
      " [ 0.9  0.4 -0.6  0.3  0.3 -0.4 -0.2 -0.5  0.6 -1.  -0.6  0.7 -0.3]\n",
      " [-0.6  0.5  0.3  0.4 -0.4  0.7  0.1  0.2 -0.5  0.6  0.  -1.  -0.5]\n",
      " [ 0.8  0.7  0.5 -0.6  1.  -0.9 -1.  -1.   0.2  0.3 -0.6  0.1  0. ]\n",
      " [-0.3  0.   0.4 -0.1 -1.  -0.1 -0.2  0.3 -0.2  0.9  0.8  0.1  0.2]] \n",
      "\n",
      "[[-10.30769231   1.69230769   9.69230769   2.69230769   8.69230769\n",
      "   -5.30769231  -7.30769231  -6.30769231   3.69230769   8.69230769\n",
      "   -5.30769231 -10.30769231   9.69230769]\n",
      " [  0.07692308   0.07692308   2.07692308  -0.92307692  -1.92307692\n",
      "    4.07692308  -8.92307692  10.07692308   1.07692308  -6.92307692\n",
      "    4.07692308  -8.92307692   6.07692308]\n",
      " [  8.23076923   1.23076923  -7.76923077  -8.76923077  -6.76923077\n",
      "   11.23076923  -4.76923077   9.23076923   3.23076923   8.23076923\n",
      "   -4.76923077  -2.76923077  -5.76923077]\n",
      " [ -2.          -5.           3.          -7.          -5.\n",
      "    9.          -2.          11.           0.          -4.\n",
      "   -2.          -2.           6.        ]\n",
      " [ -9.          -9.         -10.          -4.          -3.\n",
      "    2.           7.           8.           8.           9.\n",
      "    7.           1.          -7.        ]\n",
      " [ -6.84615385   3.15384615  -2.84615385   2.15384615   5.15384615\n",
      "   -4.84615385  -6.84615385  -0.84615385  -5.84615385  -4.84615385\n",
      "   -1.84615385  13.15384615  11.15384615]\n",
      " [ -4.30769231   8.69230769  -2.30769231   0.69230769   0.69230769\n",
      "   -7.30769231   4.69230769  -8.30769231   9.69230769  -3.30769231\n",
      "   -3.30769231   5.69230769  -1.30769231]\n",
      " [ -6.23076923  -1.23076923  -4.23076923   7.76923077   3.76923077\n",
      "    8.76923077   1.76923077   0.76923077  -5.23076923   8.76923077\n",
      "   -8.23076923  -3.23076923  -3.23076923]\n",
      " [  8.38461538   1.38461538  -8.61538462  -3.61538462   8.38461538\n",
      "   -2.61538462   0.38461538   1.38461538   2.38461538   3.38461538\n",
      "   -0.61538462  -9.61538462  -0.61538462]\n",
      " [  9.30769231   4.30769231  -5.69230769   3.30769231   3.30769231\n",
      "   -3.69230769  -1.69230769  -4.69230769   6.30769231  -9.69230769\n",
      "   -5.69230769   7.30769231  -2.69230769]\n",
      " [ -5.84615385   5.15384615   3.15384615   4.15384615  -3.84615385\n",
      "    7.15384615   1.15384615   2.15384615  -4.84615385   6.15384615\n",
      "    0.15384615  -9.84615385  -4.84615385]\n",
      " [  8.38461538   7.38461538   5.38461538  -5.61538462  10.38461538\n",
      "   -8.61538462  -9.61538462  -9.61538462   2.38461538   3.38461538\n",
      "   -5.61538462   1.38461538   0.38461538]\n",
      " [ -3.61538462  -0.61538462   3.38461538  -1.61538462 -10.61538462\n",
      "   -1.61538462  -2.61538462   2.38461538  -2.61538462   8.38461538\n",
      "    7.38461538   0.38461538   1.38461538]] \n",
      "\n",
      "[[-10   2  -1   3   9  -5  -7  -6   4   9  -5 -10  -1]\n",
      " [  0   0   2  -1  -2   4  -9  -1   1  -7   4  -9   6]\n",
      " [  7   0  -9 -10  -8  -1  -6   8   2   7  -6  -4  -7]\n",
      " [ -3  -6   2  -8  -6   8  -3  -1  -1  -5  -3  -3   5]\n",
      " [ -9  -9 -10  -4  -3   2   7   8   8   9   7   1  -7]\n",
      " [-10   0  -6  -1   2  -8 -10  -4  -9  -8  -5  -1   8]\n",
      " [ -4   9  -2   1   1  -7   5  -8  -1  -3  -3   6  -1]\n",
      " [ -7  -2  -5   7   3   8   1   0  -6   8  -9  -4  -4]\n",
      " [ -1   3  -7  -2  -1  -1   2   3   4   5   1  -8   1]\n",
      " [  9   4  -6   3   3  -4  -2  -5   6 -10  -6   7  -3]\n",
      " [ -6   5   3   4  -4   7   1   2  -5   6   0 -10  -5]\n",
      " [  8   7   5  -6  -1  -9 -10 -10   2   3  -6   1   0]\n",
      " [ -3   0   4  -1 -10  -1  -2   3  -2   9   8   1   2]]\n"
     ]
    }
   ],
   "source": [
    "from random import randint\n",
    "import numpy as np\n",
    "MAX = 0\n",
    "SUM = 0\n",
    "MEAN = 0\n",
    "\n",
    "\n",
    "n = np.random.randint(10, 101)\n",
    "X = np.random.randint(-10, 11, (n, n))\n",
    "print(X, '\\n')   #вывод матрицы\n",
    "\n",
    "MAX = X.max()   #находит максимальный элемент X\n",
    "\n",
    "SUM = np.sum(X)   #сумма элементов матрицы X\n",
    "\n",
    "X_devided = np.divide(X, MAX)   #деление всех элементов матрицы на максимальный\n",
    "\n",
    "MEAN = np.mean(X, axis = 1)   # находим среднее значение по каждой из сторок\n",
    "Y = (X.T - np.mean(X, axis = 1)).T   #От каждой строки матрицы отнимаем среднее по стороке\n",
    "\n",
    "\n",
    "X[X == X.max()] = -1   # замена максимального элемента матрицы на -1\n",
    "\n",
    "\n",
    "print(MEAN)\n",
    "print(MAX, '\\n')\n",
    "print(SUM, '\\n')\n",
    "print(X_devided, '\\n')\n",
    "print(Y, '\\n')\n",
    "print(X)     "
   ]
  },
  {
   "cell_type": "markdown",
   "metadata": {},
   "source": [
    "### Упражнение 5\n",
    "* Научиться записывать наймпай массив в файл.\n",
    "* Научиться читать массив из файла."
   ]
  },
  {
   "cell_type": "code",
   "execution_count": 42,
   "metadata": {},
   "outputs": [
    {
     "name": "stdout",
     "output_type": "stream",
     "text": [
      "[[-10.  -4.   1.   7.   8.  -6.  -8.   3.  -8.   5.]\n",
      " [ -2.  -5.  -6.   8.  -6.  -1.  -7.   2.   8.   6.]\n",
      " [  2. -10.  -1.  -3.   9.   4.   5.   2.  -7. -10.]\n",
      " [ -2.   9.  -4.  -2.   4.   0.   4.   7.   2.   5.]\n",
      " [  2.  -9.   1.   9.  -1.  -3.   4.  -7.  -1.   6.]\n",
      " [  8.   8.  -8.   0.  -7.  -6.  -4.  -8.   6.   9.]\n",
      " [  3.   1.   5.  -5.   5.  -8.  -5.   6.  -5.   1.]\n",
      " [ -5.   9.   2.   5.  -8.   7.  -6.   1.  -6.  -3.]\n",
      " [  5.   6.   2.  -2.  -7.   8.   2.   5.   5.   7.]\n",
      " [  3.   9.  -1.  -2.   5.   2. -10.  -8. -10. -10.]]\n"
     ]
    }
   ],
   "source": [
    "n = 10\n",
    "X = np.random.randint(-10, 10, (n, n))\n",
    "\n",
    "np.savetxt(\"five.txt\", X, fmt = '%3.0d')\n",
    "\n",
    "M = np.loadtxt(\"five.txt\")\n",
    "print(M)"
   ]
  },
  {
   "cell_type": "markdown",
   "metadata": {},
   "source": [
    "### Упражнение 6\n",
    "* Как в массиве найти ближайший элемент к данному? "
   ]
  },
  {
   "cell_type": "code",
   "execution_count": 35,
   "metadata": {},
   "outputs": [
    {
     "name": "stdout",
     "output_type": "stream",
     "text": [
      "[[-99  44  30  -4 -55]\n",
      " [-71  35 -22  57  97]\n",
      " [-73  27  25 -85  54]\n",
      " [-54  18  27   9 -62]\n",
      " [-91 -12 -17 -71 -75]]\n",
      "76\n",
      "57\n"
     ]
    }
   ],
   "source": [
    "import numpy as np\n",
    "\n",
    "n = 5\n",
    "X = np.random.randint(-100, 101, (n, n))\n",
    "value = np.random.randint(-100,101)\n",
    "\n",
    "print(X)\n",
    "print(value)\n",
    "print(X.flat[np.abs(X - value).argmin()])"
   ]
  },
  {
   "cell_type": "markdown",
   "metadata": {},
   "source": [
    "### Упражнение*\n",
    "* Напишите игру жизнь используя массивы нампай.\n"
   ]
  }
 ],
 "metadata": {
  "kernelspec": {
   "display_name": "Python 3",
   "language": "python",
   "name": "python3"
  },
  "language_info": {
   "codemirror_mode": {
    "name": "ipython",
    "version": 3
   },
   "file_extension": ".py",
   "mimetype": "text/x-python",
   "name": "python",
   "nbconvert_exporter": "python",
   "pygments_lexer": "ipython3",
   "version": "3.7.2"
  }
 },
 "nbformat": 4,
 "nbformat_minor": 2
}
